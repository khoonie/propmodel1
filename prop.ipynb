{
 "cells": [
  {
   "cell_type": "code",
   "execution_count": 1,
   "id": "692bf004",
   "metadata": {},
   "outputs": [],
   "source": [
    "import numpy as np\n",
    "import pandas as pd\n",
    "import matplotlib.pyplot as plt\n",
    "import os\n",
    "import warnings\n",
    "\n",
    "warnings.filterwarnings('ignore')\n",
    "%matplotlib inline\n",
    "\n",
    "import tensorflow.keras as tf"
   ]
  },
  {
   "cell_type": "code",
   "execution_count": 20,
   "id": "afc5e2ff",
   "metadata": {},
   "outputs": [
    {
     "data": {
      "text/html": [
       "<div>\n",
       "<style scoped>\n",
       "    .dataframe tbody tr th:only-of-type {\n",
       "        vertical-align: middle;\n",
       "    }\n",
       "\n",
       "    .dataframe tbody tr th {\n",
       "        vertical-align: top;\n",
       "    }\n",
       "\n",
       "    .dataframe thead th {\n",
       "        text-align: right;\n",
       "    }\n",
       "</style>\n",
       "<table border=\"1\" class=\"dataframe\">\n",
       "  <thead>\n",
       "    <tr style=\"text-align: right;\">\n",
       "      <th></th>\n",
       "      <th>propid</th>\n",
       "      <th>userid</th>\n",
       "      <th>rating</th>\n",
       "    </tr>\n",
       "  </thead>\n",
       "  <tbody>\n",
       "    <tr>\n",
       "      <th>0</th>\n",
       "      <td>1533</td>\n",
       "      <td>1</td>\n",
       "      <td>3</td>\n",
       "    </tr>\n",
       "    <tr>\n",
       "      <th>1</th>\n",
       "      <td>1833</td>\n",
       "      <td>1</td>\n",
       "      <td>3</td>\n",
       "    </tr>\n",
       "    <tr>\n",
       "      <th>2</th>\n",
       "      <td>5853</td>\n",
       "      <td>1</td>\n",
       "      <td>4</td>\n",
       "    </tr>\n",
       "    <tr>\n",
       "      <th>3</th>\n",
       "      <td>9427</td>\n",
       "      <td>1</td>\n",
       "      <td>3</td>\n",
       "    </tr>\n",
       "    <tr>\n",
       "      <th>4</th>\n",
       "      <td>1548</td>\n",
       "      <td>1</td>\n",
       "      <td>2</td>\n",
       "    </tr>\n",
       "  </tbody>\n",
       "</table>\n",
       "</div>"
      ],
      "text/plain": [
       "   propid  userid  rating\n",
       "0    1533       1       3\n",
       "1    1833       1       3\n",
       "2    5853       1       4\n",
       "3    9427       1       3\n",
       "4    1548       1       2"
      ]
     },
     "execution_count": 20,
     "metadata": {},
     "output_type": "execute_result"
    }
   ],
   "source": [
    "ratings_df = pd.read_csv(\"prop-data/rating.csv\")\n",
    "prop_df = pd.read_csv(\"prop-data/prop.csv\")\n",
    "\n",
    "ratings_df.head()"
   ]
  },
  {
   "cell_type": "code",
   "execution_count": 21,
   "id": "ca14d43f",
   "metadata": {},
   "outputs": [
    {
     "data": {
      "text/html": [
       "<div>\n",
       "<style scoped>\n",
       "    .dataframe tbody tr th:only-of-type {\n",
       "        vertical-align: middle;\n",
       "    }\n",
       "\n",
       "    .dataframe tbody tr th {\n",
       "        vertical-align: top;\n",
       "    }\n",
       "\n",
       "    .dataframe thead th {\n",
       "        text-align: right;\n",
       "    }\n",
       "</style>\n",
       "<table border=\"1\" class=\"dataframe\">\n",
       "  <thead>\n",
       "    <tr style=\"text-align: right;\">\n",
       "      <th></th>\n",
       "      <th>id</th>\n",
       "      <th>properties_name</th>\n",
       "      <th>address</th>\n",
       "      <th>latitude</th>\n",
       "      <th>longitude</th>\n",
       "      <th>no_of_stations</th>\n",
       "      <th>no_of_hawkers</th>\n",
       "      <th>no_of_supermarkets</th>\n",
       "      <th>no_of_schools</th>\n",
       "      <th>no_of_preschools</th>\n",
       "      <th>...</th>\n",
       "      <th>price</th>\n",
       "      <th>size</th>\n",
       "      <th>no_of_bedrooms</th>\n",
       "      <th>no_of_bathrooms</th>\n",
       "      <th>property_type</th>\n",
       "      <th>year_of_built</th>\n",
       "      <th>leasing</th>\n",
       "      <th>plot ratio</th>\n",
       "      <th>rental</th>\n",
       "      <th>subdistrict</th>\n",
       "    </tr>\n",
       "  </thead>\n",
       "  <tbody>\n",
       "    <tr>\n",
       "      <th>0</th>\n",
       "      <td>1</td>\n",
       "      <td>Matlock Residences</td>\n",
       "      <td>Matlock Rise</td>\n",
       "      <td>1.347440</td>\n",
       "      <td>103.863621</td>\n",
       "      <td>0</td>\n",
       "      <td>0</td>\n",
       "      <td>0</td>\n",
       "      <td>0</td>\n",
       "      <td>3</td>\n",
       "      <td>...</td>\n",
       "      <td>3380000</td>\n",
       "      <td>5536</td>\n",
       "      <td>6</td>\n",
       "      <td>6.0</td>\n",
       "      <td>Bungalow House</td>\n",
       "      <td>0</td>\n",
       "      <td>Freehold</td>\n",
       "      <td>0.0</td>\n",
       "      <td>0.00</td>\n",
       "      <td></td>\n",
       "    </tr>\n",
       "    <tr>\n",
       "      <th>1</th>\n",
       "      <td>2</td>\n",
       "      <td>Mandai Garden - 28 Meng Suan Road</td>\n",
       "      <td>Meng Suan Road</td>\n",
       "      <td>1.403523</td>\n",
       "      <td>103.813772</td>\n",
       "      <td>0</td>\n",
       "      <td>0</td>\n",
       "      <td>0</td>\n",
       "      <td>0</td>\n",
       "      <td>1</td>\n",
       "      <td>...</td>\n",
       "      <td>4380000</td>\n",
       "      <td>3922</td>\n",
       "      <td>5</td>\n",
       "      <td>5.0</td>\n",
       "      <td>Corner Terrace</td>\n",
       "      <td>2017</td>\n",
       "      <td>999-year Leasehold</td>\n",
       "      <td>0.0</td>\n",
       "      <td>0.00</td>\n",
       "      <td></td>\n",
       "    </tr>\n",
       "    <tr>\n",
       "      <th>2</th>\n",
       "      <td>3</td>\n",
       "      <td>The Quartz</td>\n",
       "      <td>55 Compassvale Bow</td>\n",
       "      <td>1.381051</td>\n",
       "      <td>103.893884</td>\n",
       "      <td>1</td>\n",
       "      <td>0</td>\n",
       "      <td>3</td>\n",
       "      <td>0</td>\n",
       "      <td>5</td>\n",
       "      <td>...</td>\n",
       "      <td>1300000</td>\n",
       "      <td>1151</td>\n",
       "      <td>3</td>\n",
       "      <td>3.0</td>\n",
       "      <td>Condominium</td>\n",
       "      <td>2010</td>\n",
       "      <td>99-year Leasehold</td>\n",
       "      <td>3.0</td>\n",
       "      <td>2.42</td>\n",
       "      <td>COMPASSVALE</td>\n",
       "    </tr>\n",
       "    <tr>\n",
       "      <th>3</th>\n",
       "      <td>4</td>\n",
       "      <td>204 Tampines Street 21</td>\n",
       "      <td>204 Tampines Street 21</td>\n",
       "      <td>1.352180</td>\n",
       "      <td>103.951695</td>\n",
       "      <td>3</td>\n",
       "      <td>0</td>\n",
       "      <td>4</td>\n",
       "      <td>0</td>\n",
       "      <td>5</td>\n",
       "      <td>...</td>\n",
       "      <td>430000</td>\n",
       "      <td>872</td>\n",
       "      <td>2</td>\n",
       "      <td>2.0</td>\n",
       "      <td>HDB Flat</td>\n",
       "      <td>1982</td>\n",
       "      <td>99-year Leasehold</td>\n",
       "      <td>0.0</td>\n",
       "      <td>0.00</td>\n",
       "      <td></td>\n",
       "    </tr>\n",
       "    <tr>\n",
       "      <th>4</th>\n",
       "      <td>5</td>\n",
       "      <td>336D Anchorvale Crescent</td>\n",
       "      <td>336D Anchorvale Crescent</td>\n",
       "      <td>1.397769</td>\n",
       "      <td>103.888236</td>\n",
       "      <td>0</td>\n",
       "      <td>0</td>\n",
       "      <td>3</td>\n",
       "      <td>0</td>\n",
       "      <td>5</td>\n",
       "      <td>...</td>\n",
       "      <td>540888</td>\n",
       "      <td>1022</td>\n",
       "      <td>3</td>\n",
       "      <td>2.0</td>\n",
       "      <td>HDB Flat</td>\n",
       "      <td>2014</td>\n",
       "      <td>99-year Leasehold</td>\n",
       "      <td>0.0</td>\n",
       "      <td>0.00</td>\n",
       "      <td></td>\n",
       "    </tr>\n",
       "  </tbody>\n",
       "</table>\n",
       "<p>5 rows × 22 columns</p>\n",
       "</div>"
      ],
      "text/plain": [
       "   id                    properties_name                   address  latitude  \\\n",
       "0   1                 Matlock Residences              Matlock Rise  1.347440   \n",
       "1   2  Mandai Garden - 28 Meng Suan Road            Meng Suan Road  1.403523   \n",
       "2   3                         The Quartz        55 Compassvale Bow  1.381051   \n",
       "3   4             204 Tampines Street 21    204 Tampines Street 21  1.352180   \n",
       "4   5           336D Anchorvale Crescent  336D Anchorvale Crescent  1.397769   \n",
       "\n",
       "    longitude  no_of_stations  no_of_hawkers  no_of_supermarkets  \\\n",
       "0  103.863621               0              0                   0   \n",
       "1  103.813772               0              0                   0   \n",
       "2  103.893884               1              0                   3   \n",
       "3  103.951695               3              0                   4   \n",
       "4  103.888236               0              0                   3   \n",
       "\n",
       "  no_of_schools no_of_preschools  ...    price  size  no_of_bedrooms  \\\n",
       "0             0                3  ...  3380000  5536               6   \n",
       "1             0                1  ...  4380000  3922               5   \n",
       "2             0                5  ...  1300000  1151               3   \n",
       "3             0                5  ...   430000   872               2   \n",
       "4             0                5  ...   540888  1022               3   \n",
       "\n",
       "   no_of_bathrooms   property_type  year_of_built             leasing  \\\n",
       "0              6.0  Bungalow House              0            Freehold   \n",
       "1              5.0  Corner Terrace           2017  999-year Leasehold   \n",
       "2              3.0     Condominium           2010   99-year Leasehold   \n",
       "3              2.0        HDB Flat           1982   99-year Leasehold   \n",
       "4              2.0        HDB Flat           2014   99-year Leasehold   \n",
       "\n",
       "   plot ratio rental  subdistrict  \n",
       "0         0.0   0.00               \n",
       "1         0.0   0.00               \n",
       "2         3.0   2.42  COMPASSVALE  \n",
       "3         0.0   0.00               \n",
       "4         0.0   0.00               \n",
       "\n",
       "[5 rows x 22 columns]"
      ]
     },
     "execution_count": 21,
     "metadata": {},
     "output_type": "execute_result"
    }
   ],
   "source": [
    "prop_df.head()"
   ]
  },
  {
   "cell_type": "code",
   "execution_count": 22,
   "id": "4c63a03e",
   "metadata": {},
   "outputs": [
    {
     "name": "stdout",
     "output_type": "stream",
     "text": [
      "(11000, 3)\n",
      "1000\n",
      "10000\n"
     ]
    },
    {
     "data": {
      "text/plain": [
       "propid    0\n",
       "userid    0\n",
       "rating    0\n",
       "dtype: int64"
      ]
     },
     "execution_count": 22,
     "metadata": {},
     "output_type": "execute_result"
    }
   ],
   "source": [
    "print (ratings_df.shape)\n",
    "print (ratings_df.userid.nunique())\n",
    "print (ratings_df.propid.nunique())\n",
    "ratings_df.isna().sum()"
   ]
  },
  {
   "cell_type": "code",
   "execution_count": 23,
   "id": "491b9cd3",
   "metadata": {},
   "outputs": [
    {
     "name": "stdout",
     "output_type": "stream",
     "text": [
      "Shape of train data: (8800, 3)\n",
      "Shape of test data: (2200, 3)\n"
     ]
    }
   ],
   "source": [
    "from sklearn.model_selection import train_test_split\n",
    "Xtrain, Xtest = train_test_split(ratings_df, test_size=0.2, random_state=1)\n",
    "print(f\"Shape of train data: {Xtrain.shape}\")\n",
    "print(f\"Shape of test data: {Xtest.shape}\")\n"
   ]
  },
  {
   "cell_type": "code",
   "execution_count": 24,
   "id": "dbb5367a",
   "metadata": {},
   "outputs": [
    {
     "data": {
      "text/plain": [
       "1000"
      ]
     },
     "execution_count": 24,
     "metadata": {},
     "output_type": "execute_result"
    }
   ],
   "source": [
    "nuserid = ratings_df.userid.nunique()\n",
    "npropid = ratings_df.propid.nunique()\n",
    "nuserid\n"
   ]
  },
  {
   "cell_type": "code",
   "execution_count": 30,
   "id": "4240abac",
   "metadata": {},
   "outputs": [],
   "source": [
    "input_props = tf.layers.Input(shape=[1])\n",
    "embed_props = tf.layers.Embedding(npropid + 1, 32)(input_props)\n",
    "props_out = tf.layers.Flatten() (embed_props)\n",
    "\n",
    "input_users  = tf.layers.Input(shape=[1])\n",
    "embed_users = tf.layers.Embedding(nuserid + 1, 32)(input_users)\n",
    "users_out = tf.layers.Flatten() (embed_users)\n",
    "\n",
    "conc_layer = tf.layers.Concatenate() ([props_out, users_out])\n",
    "x=tf.layers.Dense(128, activation='relu') (conc_layer)\n",
    "x_out = x = tf.layers.Dense(1, activation = 'relu') (x)\n",
    "model = tf.Model ([input_props, input_users], x_out)\n",
    "\n"
   ]
  },
  {
   "cell_type": "code",
   "execution_count": 31,
   "id": "eeec7c05",
   "metadata": {},
   "outputs": [
    {
     "name": "stdout",
     "output_type": "stream",
     "text": [
      "Model: \"functional_5\"\n",
      "__________________________________________________________________________________________________\n",
      "Layer (type)                    Output Shape         Param #     Connected to                     \n",
      "==================================================================================================\n",
      "input_5 (InputLayer)            [(None, 1)]          0                                            \n",
      "__________________________________________________________________________________________________\n",
      "input_6 (InputLayer)            [(None, 1)]          0                                            \n",
      "__________________________________________________________________________________________________\n",
      "embedding_4 (Embedding)         (None, 1, 32)        320032      input_5[0][0]                    \n",
      "__________________________________________________________________________________________________\n",
      "embedding_5 (Embedding)         (None, 1, 32)        32032       input_6[0][0]                    \n",
      "__________________________________________________________________________________________________\n",
      "flatten_4 (Flatten)             (None, 32)           0           embedding_4[0][0]                \n",
      "__________________________________________________________________________________________________\n",
      "flatten_5 (Flatten)             (None, 32)           0           embedding_5[0][0]                \n",
      "__________________________________________________________________________________________________\n",
      "concatenate_2 (Concatenate)     (None, 64)           0           flatten_4[0][0]                  \n",
      "                                                                 flatten_5[0][0]                  \n",
      "__________________________________________________________________________________________________\n",
      "dense_4 (Dense)                 (None, 128)          8320        concatenate_2[0][0]              \n",
      "__________________________________________________________________________________________________\n",
      "dense_5 (Dense)                 (None, 1)            129         dense_4[0][0]                    \n",
      "==================================================================================================\n",
      "Total params: 360,513\n",
      "Trainable params: 360,513\n",
      "Non-trainable params: 0\n",
      "__________________________________________________________________________________________________\n"
     ]
    }
   ],
   "source": [
    "opt = tf.optimizers.Adam(learning_rate = 0.001)\n",
    "model.compile (optimizer = opt, loss = 'mean_squared_error')\n",
    "model.summary()"
   ]
  },
  {
   "cell_type": "code",
   "execution_count": 32,
   "id": "b3bd97ce",
   "metadata": {},
   "outputs": [
    {
     "name": "stdout",
     "output_type": "stream",
     "text": [
      "Epoch 1/10\n",
      "275/275 [==============================] - 1s 3ms/step - loss: 3.5760 - val_loss: 1.5888\n",
      "Epoch 2/10\n",
      "275/275 [==============================] - 1s 2ms/step - loss: 1.1257 - val_loss: 1.7971\n",
      "Epoch 3/10\n",
      "275/275 [==============================] - 1s 2ms/step - loss: 0.4236 - val_loss: 1.8115\n",
      "Epoch 4/10\n",
      "275/275 [==============================] - 1s 2ms/step - loss: 0.2588 - val_loss: 1.8532\n",
      "Epoch 5/10\n",
      "275/275 [==============================] - 1s 2ms/step - loss: 0.2046 - val_loss: 1.8353\n",
      "Epoch 6/10\n",
      "275/275 [==============================] - 1s 2ms/step - loss: 0.1681 - val_loss: 1.8766\n",
      "Epoch 7/10\n",
      "275/275 [==============================] - 1s 2ms/step - loss: 0.1532 - val_loss: 1.8907\n",
      "Epoch 8/10\n",
      "275/275 [==============================] - 1s 2ms/step - loss: 0.1472 - val_loss: 1.9235\n",
      "Epoch 9/10\n",
      "275/275 [==============================] - 1s 2ms/step - loss: 0.1437 - val_loss: 1.9333\n",
      "Epoch 10/10\n",
      "275/275 [==============================] - 1s 2ms/step - loss: 0.1393 - val_loss: 1.9373\n"
     ]
    }
   ],
   "source": [
    "hist = model.fit([Xtrain.propid, Xtrain.userid], Xtrain.rating, \n",
    "                 batch_size=32, \n",
    "                 epochs=10, \n",
    "                 verbose=1,\n",
    "                 validation_data=([Xtest.propid, Xtest.userid], Xtest.rating))"
   ]
  },
  {
   "cell_type": "code",
   "execution_count": 33,
   "id": "7aa947cd",
   "metadata": {},
   "outputs": [
    {
     "data": {
      "image/png": "[encoded data removed]",
      "text/plain": [
       "<Figure size 432x288 with 1 Axes>"
      ]
     },
     "metadata": {
      "needs_background": "light"
     },
     "output_type": "display_data"
    }
   ],
   "source": [
    "train_loss = hist.history['loss']\n",
    "val_loss = hist.history['val_loss']\n",
    "plt.plot(train_loss, color='r', label='Train Loss')\n",
    "plt.plot(val_loss, color='b', label='Validation Loss')\n",
    "plt.title(\"Train and Validation Loss Curve\")\n",
    "plt.legend()\n",
    "plt.show()"
   ]
  },
  {
   "cell_type": "code",
   "execution_count": 34,
   "id": "a438f78b",
   "metadata": {},
   "outputs": [
    {
     "name": "stdout",
     "output_type": "stream",
     "text": [
      "WARNING:tensorflow:From C:\\Users\\CoolDataMoose\\anaconda3\\envs\\prop\\lib\\site-packages\\tensorflow\\python\\training\\tracking\\tracking.py:111: Model.state_updates (from tensorflow.python.keras.engine.training) is deprecated and will be removed in a future version.\n",
      "Instructions for updating:\n",
      "This property should not be used in TensorFlow 2.0, as updates are applied automatically.\n",
      "WARNING:tensorflow:From C:\\Users\\CoolDataMoose\\anaconda3\\envs\\prop\\lib\\site-packages\\tensorflow\\python\\training\\tracking\\tracking.py:111: Layer.updates (from tensorflow.python.keras.engine.base_layer) is deprecated and will be removed in a future version.\n",
      "Instructions for updating:\n",
      "This property should not be used in TensorFlow 2.0, as updates are applied automatically.\n",
      "INFO:tensorflow:Assets written to: model\\assets\n"
     ]
    }
   ],
   "source": [
    "model.save('model')"
   ]
  },
  {
   "cell_type": "code",
   "execution_count": 35,
   "id": "2b02b3e2",
   "metadata": {},
   "outputs": [
    {
     "data": {
      "text/plain": [
       "(10001, 32)"
      ]
     },
     "execution_count": 35,
     "metadata": {},
     "output_type": "execute_result"
    }
   ],
   "source": [
    "prop_embedding = model.get_layer('embedding_4')\n",
    "prop_embedding_weights = prop_embedding.get_weights() [0]\n",
    "prop_embedding_weights.shape"
   ]
  },
  {
   "cell_type": "code",
   "execution_count": 38,
   "id": "3aa50802",
   "metadata": {},
   "outputs": [],
   "source": [
    "prop_df_copy = prop_df.copy()\n",
    "prop_df_copy = prop_df_copy.set_index('id')\n"
   ]
  },
  {
   "cell_type": "code",
   "execution_count": 43,
   "id": "b8125af5",
   "metadata": {},
   "outputs": [
    {
     "ename": "AttributeError",
     "evalue": "'numpy.ndarray' object has no attribute 'count'",
     "output_type": "error",
     "traceback": [
      "\u001b[1;31m---------------------------------------------------------------------------\u001b[0m",
      "\u001b[1;31mAttributeError\u001b[0m                            Traceback (most recent call last)",
      "\u001b[1;32mC:\\Users\\COOLDA~1\\AppData\\Local\\Temp/ipykernel_11460/152459436.py\u001b[0m in \u001b[0;36m<module>\u001b[1;34m\u001b[0m\n\u001b[1;32m----> 1\u001b[1;33m \u001b[0mratings_df\u001b[0m\u001b[1;33m.\u001b[0m\u001b[0mpropid\u001b[0m\u001b[1;33m.\u001b[0m\u001b[0munique\u001b[0m\u001b[1;33m(\u001b[0m\u001b[1;33m)\u001b[0m\u001b[1;33m.\u001b[0m\u001b[0mcount\u001b[0m\u001b[1;33m(\u001b[0m\u001b[1;33m)\u001b[0m\u001b[1;33m\u001b[0m\u001b[1;33m\u001b[0m\u001b[0m\n\u001b[0m",
      "\u001b[1;31mAttributeError\u001b[0m: 'numpy.ndarray' object has no attribute 'count'"
     ]
    }
   ],
   "source": [
    "ratings_df.propid.unique()"
   ]
  },
  {
   "cell_type": "code",
   "execution_count": 44,
   "id": "1db6684f",
   "metadata": {},
   "outputs": [],
   "source": [
    "prop_id =list(ratings_df.propid.unique())\n",
    "prop_id.remove(10000)\n",
    "dict_map = {}\n",
    "for i in prop_id:\n",
    "    dict_map[i] = prop_df_copy.iloc[i]['properties_name']\n",
    "    \n",
    "out_v = open('vecs.tsv', 'w')\n",
    "out_m = open('meta.tsv', 'w')\n",
    "for i in prop_id:\n",
    "    prop = dict_map[i]\n",
    "    embeddings = prop_embedding_weights[i]\n",
    "    out_m.write(prop + \"\\n\")\n",
    "    out_v.write('\\t'.join([str(x) for x in embeddings]) + \"\\n\")\n",
    "    \n",
    "out_v.close()\n",
    "out_m.close()"
   ]
  },
  {
   "cell_type": "code",
   "execution_count": 45,
   "id": "95a6ce30",
   "metadata": {},
   "outputs": [
    {
     "data": {
      "text/plain": [
       "array([[2.8707604],\n",
       "       [2.9265218],\n",
       "       [3.4419174],\n",
       "       ...,\n",
       "       [4.80112  ],\n",
       "       [3.3745446],\n",
       "       [1.916429 ]], dtype=float32)"
      ]
     },
     "execution_count": 45,
     "metadata": {},
     "output_type": "execute_result"
    }
   ],
   "source": [
    "prop_arr = np.array(prop_id)\n",
    "user = np.array([100 for i in range(len(prop_id))])\n",
    "\n",
    "pred=model.predict([prop_arr, user])\n",
    "pred"
   ]
  },
  {
   "cell_type": "code",
   "execution_count": 46,
   "id": "fa6c0ea6",
   "metadata": {},
   "outputs": [
    {
     "data": {
      "text/plain": [
       "array([8492, 8569,  248, 8292, 3282], dtype=int64)"
      ]
     },
     "execution_count": 46,
     "metadata": {},
     "output_type": "execute_result"
    }
   ],
   "source": [
    "pred = pred.reshape(-1) \n",
    "pred_ids = (-pred).argsort()[0:5]\n",
    "pred_ids"
   ]
  },
  {
   "cell_type": "code",
   "execution_count": 48,
   "id": "cef2ba7b",
   "metadata": {},
   "outputs": [
    {
     "data": {
      "text/html": [
       "<div>\n",
       "<style scoped>\n",
       "    .dataframe tbody tr th:only-of-type {\n",
       "        vertical-align: middle;\n",
       "    }\n",
       "\n",
       "    .dataframe tbody tr th {\n",
       "        vertical-align: top;\n",
       "    }\n",
       "\n",
       "    .dataframe thead th {\n",
       "        text-align: right;\n",
       "    }\n",
       "</style>\n",
       "<table border=\"1\" class=\"dataframe\">\n",
       "  <thead>\n",
       "    <tr style=\"text-align: right;\">\n",
       "      <th></th>\n",
       "      <th>id</th>\n",
       "      <th>properties_name</th>\n",
       "      <th>address</th>\n",
       "      <th>latitude</th>\n",
       "      <th>longitude</th>\n",
       "      <th>no_of_stations</th>\n",
       "      <th>no_of_hawkers</th>\n",
       "      <th>no_of_supermarkets</th>\n",
       "      <th>no_of_schools</th>\n",
       "      <th>no_of_preschools</th>\n",
       "      <th>...</th>\n",
       "      <th>price</th>\n",
       "      <th>size</th>\n",
       "      <th>no_of_bedrooms</th>\n",
       "      <th>no_of_bathrooms</th>\n",
       "      <th>property_type</th>\n",
       "      <th>year_of_built</th>\n",
       "      <th>leasing</th>\n",
       "      <th>plot ratio</th>\n",
       "      <th>rental</th>\n",
       "      <th>subdistrict</th>\n",
       "    </tr>\n",
       "  </thead>\n",
       "  <tbody>\n",
       "    <tr>\n",
       "      <th>8492</th>\n",
       "      <td>8493</td>\n",
       "      <td>View At Kismis</td>\n",
       "      <td>View At Kismis</td>\n",
       "      <td>1.338206</td>\n",
       "      <td>103.769882</td>\n",
       "      <td>1</td>\n",
       "      <td>1</td>\n",
       "      <td>2</td>\n",
       "      <td>0</td>\n",
       "      <td>4</td>\n",
       "      <td>...</td>\n",
       "      <td>1980000</td>\n",
       "      <td>1292</td>\n",
       "      <td>5</td>\n",
       "      <td>4.0</td>\n",
       "      <td>Condominium</td>\n",
       "      <td>0</td>\n",
       "      <td>99-year Leasehold</td>\n",
       "      <td>1.540000</td>\n",
       "      <td>0.00</td>\n",
       "      <td>ANAK BUKIT</td>\n",
       "    </tr>\n",
       "    <tr>\n",
       "      <th>8569</th>\n",
       "      <td>8570</td>\n",
       "      <td>Pandan Valley</td>\n",
       "      <td>1 Pandan Valley</td>\n",
       "      <td>1.319994</td>\n",
       "      <td>103.778002</td>\n",
       "      <td>0</td>\n",
       "      <td>0</td>\n",
       "      <td>2</td>\n",
       "      <td>0</td>\n",
       "      <td>3</td>\n",
       "      <td>...</td>\n",
       "      <td>5900000</td>\n",
       "      <td>5317</td>\n",
       "      <td>5</td>\n",
       "      <td>5.0</td>\n",
       "      <td>Condominium</td>\n",
       "      <td>1979</td>\n",
       "      <td>Freehold</td>\n",
       "      <td>2.100000</td>\n",
       "      <td>1.97</td>\n",
       "      <td>ULU PANDAN</td>\n",
       "    </tr>\n",
       "    <tr>\n",
       "      <th>248</th>\n",
       "      <td>249</td>\n",
       "      <td>The Teneriffe</td>\n",
       "      <td>110 Laurel Wood Avenue</td>\n",
       "      <td>1.326765</td>\n",
       "      <td>103.790215</td>\n",
       "      <td>0</td>\n",
       "      <td>0</td>\n",
       "      <td>0</td>\n",
       "      <td>0</td>\n",
       "      <td>3</td>\n",
       "      <td>...</td>\n",
       "      <td>2950000</td>\n",
       "      <td>3100</td>\n",
       "      <td>5</td>\n",
       "      <td>5.0</td>\n",
       "      <td>Cluster House</td>\n",
       "      <td>2004</td>\n",
       "      <td>99-year Leasehold</td>\n",
       "      <td>0.000000</td>\n",
       "      <td>0.00</td>\n",
       "      <td></td>\n",
       "    </tr>\n",
       "    <tr>\n",
       "      <th>8292</th>\n",
       "      <td>8293</td>\n",
       "      <td>20 Jalan Membina</td>\n",
       "      <td>20 Jalan Membina</td>\n",
       "      <td>1.285625</td>\n",
       "      <td>103.825923</td>\n",
       "      <td>1</td>\n",
       "      <td>5</td>\n",
       "      <td>5</td>\n",
       "      <td>0</td>\n",
       "      <td>5</td>\n",
       "      <td>...</td>\n",
       "      <td>1000000</td>\n",
       "      <td>1184</td>\n",
       "      <td>3</td>\n",
       "      <td>2.0</td>\n",
       "      <td>HDB Flat</td>\n",
       "      <td>2001</td>\n",
       "      <td>99-year Leasehold</td>\n",
       "      <td>0.000000</td>\n",
       "      <td>0.00</td>\n",
       "      <td></td>\n",
       "    </tr>\n",
       "    <tr>\n",
       "      <th>3282</th>\n",
       "      <td>3283</td>\n",
       "      <td>KAP RESIDENCES</td>\n",
       "      <td>11 King Albert Park</td>\n",
       "      <td>1.336842</td>\n",
       "      <td>103.779314</td>\n",
       "      <td>2</td>\n",
       "      <td>1</td>\n",
       "      <td>5</td>\n",
       "      <td>0</td>\n",
       "      <td>5</td>\n",
       "      <td>...</td>\n",
       "      <td>1999000</td>\n",
       "      <td>1281</td>\n",
       "      <td>3</td>\n",
       "      <td>2.0</td>\n",
       "      <td>Apartment</td>\n",
       "      <td>2017</td>\n",
       "      <td>Freehold</td>\n",
       "      <td>3.097913</td>\n",
       "      <td>3.92</td>\n",
       "      <td>HOLLAND ROAD</td>\n",
       "    </tr>\n",
       "  </tbody>\n",
       "</table>\n",
       "<p>5 rows × 22 columns</p>\n",
       "</div>"
      ],
      "text/plain": [
       "        id   properties_name                 address  latitude   longitude  \\\n",
       "8492  8493    View At Kismis          View At Kismis  1.338206  103.769882   \n",
       "8569  8570     Pandan Valley         1 Pandan Valley  1.319994  103.778002   \n",
       "248    249     The Teneriffe  110 Laurel Wood Avenue  1.326765  103.790215   \n",
       "8292  8293  20 Jalan Membina        20 Jalan Membina  1.285625  103.825923   \n",
       "3282  3283    KAP RESIDENCES     11 King Albert Park  1.336842  103.779314   \n",
       "\n",
       "      no_of_stations  no_of_hawkers  no_of_supermarkets no_of_schools  \\\n",
       "8492               1              1                   2             0   \n",
       "8569               0              0                   2             0   \n",
       "248                0              0                   0             0   \n",
       "8292               1              5                   5             0   \n",
       "3282               2              1                   5             0   \n",
       "\n",
       "     no_of_preschools  ...    price  size  no_of_bedrooms  no_of_bathrooms  \\\n",
       "8492                4  ...  1980000  1292               5              4.0   \n",
       "8569                3  ...  5900000  5317               5              5.0   \n",
       "248                 3  ...  2950000  3100               5              5.0   \n",
       "8292                5  ...  1000000  1184               3              2.0   \n",
       "3282                5  ...  1999000  1281               3              2.0   \n",
       "\n",
       "      property_type  year_of_built            leasing  plot ratio rental  \\\n",
       "8492    Condominium              0  99-year Leasehold    1.540000   0.00   \n",
       "8569    Condominium           1979           Freehold    2.100000   1.97   \n",
       "248   Cluster House           2004  99-year Leasehold    0.000000   0.00   \n",
       "8292       HDB Flat           2001  99-year Leasehold    0.000000   0.00   \n",
       "3282      Apartment           2017           Freehold    3.097913   3.92   \n",
       "\n",
       "       subdistrict  \n",
       "8492    ANAK BUKIT  \n",
       "8569    ULU PANDAN  \n",
       "248                 \n",
       "8292                \n",
       "3282  HOLLAND ROAD  \n",
       "\n",
       "[5 rows x 22 columns]"
      ]
     },
     "execution_count": 48,
     "metadata": {},
     "output_type": "execute_result"
    }
   ],
   "source": [
    "prop_df.iloc[pred_ids]"
   ]
  },
  {
   "cell_type": "code",
   "execution_count": null,
   "id": "4638766f",
   "metadata": {},
   "outputs": [],
   "source": []
  }
 ],
 "metadata": {
  "kernelspec": {
   "display_name": "Python 3 (ipykernel)",
   "language": "python",
   "name": "python3"
  },
  "language_info": {
   "codemirror_mode": {
    "name": "ipython",
    "version": 3
   },
   "file_extension": ".py",
   "mimetype": "text/x-python",
   "name": "python",
   "nbconvert_exporter": "python",
   "pygments_lexer": "ipython3",
   "version": "3.8.11"
  }
 },
 "nbformat": 4,
 "nbformat_minor": 5
}
